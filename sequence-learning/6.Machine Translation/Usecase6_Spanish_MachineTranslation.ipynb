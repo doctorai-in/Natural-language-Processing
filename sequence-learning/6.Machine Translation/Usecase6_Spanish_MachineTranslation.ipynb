{
  "nbformat": 4,
  "nbformat_minor": 0,
  "metadata": {
    "colab": {
      "name": "Usecase6_Spanish_MachineTranslation.ipynb",
      "provenance": [],
      "collapsed_sections": [],
      "toc_visible": true
    },
    "kernelspec": {
      "name": "python3",
      "display_name": "Python 3"
    },
    "accelerator": "GPU"
  },
  "cells": [
    {
      "cell_type": "markdown",
      "metadata": {
        "id": "I_Lzchr_tMqm",
        "colab_type": "text"
      },
      "source": [
        "# Machine Translation using RNN GRU\n",
        "This use-case provides a demo of how RNN and GRU can be used for machine translation of languages using seq2seq.\n",
        "In our use-case, we will use spa.txt as training set which has a translation of English words to Spanish words. The database can be downloaded from the URL https://www.dropbox.com/s/poqpk4528x4nkp3/spa.txt\n",
        "\n",
        "\n",
        "*Workflow:*\n",
        "\n",
        "1. Understanding the problem\n",
        "2. Collecting the data\n",
        "3. Data preprocessing \n",
        "4. Build seq2seq Model using Grated Recurrent Unit (GRU)\n",
        "5. Training the dataset\n",
        "6. Translate\n",
        "\n"
      ]
    },
    {
      "cell_type": "markdown",
      "metadata": {
        "id": "Ah2KOjkytWHV",
        "colab_type": "text"
      },
      "source": [
        "## 1. Understanding the problem \n",
        "The problem statement is to translate the English text into Spanish. For this purpose, we will be using RNN-GRU model using sequence modeling. "
      ]
    },
    {
      "cell_type": "code",
      "metadata": {
        "id": "hl1e0rwtZw3F",
        "colab_type": "code",
        "outputId": "b3129fd6-b358-45d8-aa40-572e91d7c248",
        "colab": {
          "base_uri": "https://localhost:8080/",
          "height": 105
        }
      },
      "source": [
        "import numpy as np # linear algebra\n",
        "import pandas as pd # data processing, CSV file I/O (e.g. pd.read_csv)\n",
        "\n",
        "# Input data files are available in the \"../input/\" directory.\n",
        "# For example, running this (by clicking run or pressing Shift+Enter) will list the files in the input directory\n",
        "\n",
        "import os\n",
        "import string\n",
        "from string import digits\n",
        "import matplotlib.pyplot as plt\n",
        "%matplotlib inline\n",
        "import re\n",
        "\n",
        "import seaborn as sns\n",
        "from sklearn.utils import shuffle\n",
        "from sklearn.model_selection import train_test_split\n",
        "from keras.layers import Input, LSTM, Embedding, Dense\n",
        "from keras.models import Model\n",
        "pd.set_option('display.max_rows', 500)\n",
        "pd.set_option('display.max_columns', 500)\n",
        "pd.set_option('display.width', 1000)\n",
        "pd.set_option('display.max_colwidth', -1)"
      ],
      "execution_count": 0,
      "outputs": [
        {
          "output_type": "stream",
          "text": [
            "/usr/local/lib/python3.6/dist-packages/statsmodels/tools/_testing.py:19: FutureWarning: pandas.util.testing is deprecated. Use the functions in the public API at pandas.testing instead.\n",
            "  import pandas.util.testing as tm\n",
            "Using TensorFlow backend.\n",
            "/usr/local/lib/python3.6/dist-packages/ipykernel_launcher.py:22: FutureWarning: Passing a negative integer is deprecated in version 1.0 and will not be supported in future version. Instead, use None to not limit the column width.\n"
          ],
          "name": "stderr"
        }
      ]
    },
    {
      "cell_type": "markdown",
      "metadata": {
        "id": "qJM0ufkS_EjU",
        "colab_type": "text"
      },
      "source": [
        "##Download data and put it in pandas DataFrame"
      ]
    },
    {
      "cell_type": "code",
      "metadata": {
        "id": "SufMfnglaQgV",
        "colab_type": "code",
        "outputId": "9d4de9c6-8183-4b06-ba19-446532434377",
        "colab": {
          "base_uri": "https://localhost:8080/",
          "height": 377
        }
      },
      "source": [
        "!wget https://www.dropbox.com/s/poqpk4528x4nkp3/spa.txt #Download the datafile from this site"
      ],
      "execution_count": 0,
      "outputs": [
        {
          "output_type": "stream",
          "text": [
            "--2020-05-19 11:35:31--  https://www.dropbox.com/s/poqpk4528x4nkp3/spa.txt\n",
            "Resolving www.dropbox.com (www.dropbox.com)... 162.125.65.1, 2620:100:6021:1::a27d:4101\n",
            "Connecting to www.dropbox.com (www.dropbox.com)|162.125.65.1|:443... connected.\n",
            "HTTP request sent, awaiting response... 301 Moved Permanently\n",
            "Location: /s/raw/poqpk4528x4nkp3/spa.txt [following]\n",
            "--2020-05-19 11:35:32--  https://www.dropbox.com/s/raw/poqpk4528x4nkp3/spa.txt\n",
            "Reusing existing connection to www.dropbox.com:443.\n",
            "HTTP request sent, awaiting response... 302 Found\n",
            "Location: https://uc27a479642c7e7927f96736814b.dl.dropboxusercontent.com/cd/0/inline/A4DnSRCMtFXkvHahaqhayXtTmp2ypr0cydzLs5apavKKuqojfjflK1fRviUD-TH9BDYT5rGLycIaUGpvxnVKqx3O1pFATr0PNFFQ_MXljGDXe0tKdGPHfCL4V3IIhEq4GYo/file# [following]\n",
            "--2020-05-19 11:35:32--  https://uc27a479642c7e7927f96736814b.dl.dropboxusercontent.com/cd/0/inline/A4DnSRCMtFXkvHahaqhayXtTmp2ypr0cydzLs5apavKKuqojfjflK1fRviUD-TH9BDYT5rGLycIaUGpvxnVKqx3O1pFATr0PNFFQ_MXljGDXe0tKdGPHfCL4V3IIhEq4GYo/file\n",
            "Resolving uc27a479642c7e7927f96736814b.dl.dropboxusercontent.com (uc27a479642c7e7927f96736814b.dl.dropboxusercontent.com)... 162.125.65.6, 2620:100:6021:6::a27d:4106\n",
            "Connecting to uc27a479642c7e7927f96736814b.dl.dropboxusercontent.com (uc27a479642c7e7927f96736814b.dl.dropboxusercontent.com)|162.125.65.6|:443... connected.\n",
            "HTTP request sent, awaiting response... 200 OK\n",
            "Length: 8303061 (7.9M) [text/plain]\n",
            "Saving to: ‘spa.txt’\n",
            "\n",
            "spa.txt             100%[===================>]   7.92M  22.5MB/s    in 0.4s    \n",
            "\n",
            "2020-05-19 11:35:33 (22.5 MB/s) - ‘spa.txt’ saved [8303061/8303061]\n",
            "\n"
          ],
          "name": "stdout"
        }
      ]
    },
    {
      "cell_type": "code",
      "metadata": {
        "id": "Gre8_g22vOQW",
        "colab_type": "code",
        "colab": {}
      },
      "source": [
        "fi = open(\"/content/spa.txt\",encoding='utf-8',mode='r')\n",
        "data = fi.read()"
      ],
      "execution_count": 0,
      "outputs": []
    },
    {
      "cell_type": "code",
      "metadata": {
        "id": "EtQjt9--vhck",
        "colab_type": "code",
        "colab": {}
      },
      "source": [
        "df=[]\n",
        "for line in data.split('\\n'):\n",
        "  df.append(line.split('\\t'))"
      ],
      "execution_count": 0,
      "outputs": []
    },
    {
      "cell_type": "code",
      "metadata": {
        "id": "b56buqikafg9",
        "colab_type": "code",
        "colab": {}
      },
      "source": [
        "lines=pd.DataFrame(df)\n",
        "lines.head(20)\n",
        "lines = lines.iloc[:,:2]\n",
        "lines.columns=['english','spanish']"
      ],
      "execution_count": 0,
      "outputs": []
    },
    {
      "cell_type": "code",
      "metadata": {
        "id": "JSmG7EYU8YGg",
        "colab_type": "code",
        "outputId": "29846251-339c-4228-cf94-a25987db5443",
        "colab": {
          "base_uri": "https://localhost:8080/",
          "height": 34
        }
      },
      "source": [
        "lines.dropna(inplace=True)\n",
        "lines.shape"
      ],
      "execution_count": 0,
      "outputs": [
        {
          "output_type": "execute_result",
          "data": {
            "text/plain": [
              "(123770, 2)"
            ]
          },
          "metadata": {
            "tags": []
          },
          "execution_count": 43
        }
      ]
    },
    {
      "cell_type": "code",
      "metadata": {
        "id": "Bd1xairhwIcR",
        "colab_type": "code",
        "outputId": "aec204ff-bd52-4d71-b1ba-5c254f7d035e",
        "colab": {
          "base_uri": "https://localhost:8080/",
          "height": 204
        }
      },
      "source": [
        "lines.head()"
      ],
      "execution_count": 0,
      "outputs": [
        {
          "output_type": "execute_result",
          "data": {
            "text/html": [
              "<div>\n",
              "<style scoped>\n",
              "    .dataframe tbody tr th:only-of-type {\n",
              "        vertical-align: middle;\n",
              "    }\n",
              "\n",
              "    .dataframe tbody tr th {\n",
              "        vertical-align: top;\n",
              "    }\n",
              "\n",
              "    .dataframe thead th {\n",
              "        text-align: right;\n",
              "    }\n",
              "</style>\n",
              "<table border=\"1\" class=\"dataframe\">\n",
              "  <thead>\n",
              "    <tr style=\"text-align: right;\">\n",
              "      <th></th>\n",
              "      <th>english</th>\n",
              "      <th>spanish</th>\n",
              "    </tr>\n",
              "  </thead>\n",
              "  <tbody>\n",
              "    <tr>\n",
              "      <th>0</th>\n",
              "      <td>Go.</td>\n",
              "      <td>Ve.</td>\n",
              "    </tr>\n",
              "    <tr>\n",
              "      <th>1</th>\n",
              "      <td>Go.</td>\n",
              "      <td>Vete.</td>\n",
              "    </tr>\n",
              "    <tr>\n",
              "      <th>2</th>\n",
              "      <td>Go.</td>\n",
              "      <td>Vaya.</td>\n",
              "    </tr>\n",
              "    <tr>\n",
              "      <th>3</th>\n",
              "      <td>Go.</td>\n",
              "      <td>VÃ¡yase.</td>\n",
              "    </tr>\n",
              "    <tr>\n",
              "      <th>4</th>\n",
              "      <td>Hi.</td>\n",
              "      <td>Hola.</td>\n",
              "    </tr>\n",
              "  </tbody>\n",
              "</table>\n",
              "</div>"
            ],
            "text/plain": [
              "  english   spanish\n",
              "0  Go.     Ve.     \n",
              "1  Go.     Vete.   \n",
              "2  Go.     Vaya.   \n",
              "3  Go.     VÃ¡yase.\n",
              "4  Hi.     Hola.   "
            ]
          },
          "metadata": {
            "tags": []
          },
          "execution_count": 44
        }
      ]
    },
    {
      "cell_type": "code",
      "metadata": {
        "id": "jXkwRKKZbHX4",
        "colab_type": "code",
        "colab": {}
      },
      "source": [
        "#lines=lines[~pd.isnull(lines['english'])]"
      ],
      "execution_count": 0,
      "outputs": []
    },
    {
      "cell_type": "code",
      "metadata": {
        "id": "GD6JzA1HbJtY",
        "colab_type": "code",
        "outputId": "9c1f26ba-97db-45f0-b1a5-45420a651b49",
        "colab": {
          "base_uri": "https://localhost:8080/",
          "height": 34
        }
      },
      "source": [
        "lines.drop_duplicates(inplace=True)\n",
        "lines=lines.sample(n=120000,random_state=42)\n",
        "lines.shape"
      ],
      "execution_count": 0,
      "outputs": [
        {
          "output_type": "execute_result",
          "data": {
            "text/plain": [
              "(120000, 2)"
            ]
          },
          "metadata": {
            "tags": []
          },
          "execution_count": 46
        }
      ]
    },
    {
      "cell_type": "markdown",
      "metadata": {
        "id": "du3BmcWV_1eD",
        "colab_type": "text"
      },
      "source": [
        "##Clean the text data"
      ]
    },
    {
      "cell_type": "code",
      "metadata": {
        "id": "yotL_v_pexQ_",
        "colab_type": "code",
        "colab": {}
      },
      "source": [
        "# Lowercase all characters\n",
        "lines['english']=lines['english'].apply(lambda x: x.lower())\n",
        "lines['spanish']=lines['spanish'].apply(lambda x: x.lower())\n",
        "\n",
        "# Remove quotes\n",
        "lines['english']=lines['english'].apply(lambda x: re.sub(\"'\", '', x))\n",
        "lines['spanish']=lines['spanish'].apply(lambda x: re.sub(\"'\", '', x))\n",
        "\n",
        "exclude = set(string.punctuation) # Set of all special characters\n",
        "# Remove all the special characters\n",
        "lines['english']=lines['english'].apply(lambda x: ''.join(ch for ch in x if ch not in exclude))\n",
        "lines['spanish']=lines['spanish'].apply(lambda x: ''.join(ch for ch in x if ch not in exclude))\n",
        "\n",
        "# Remove all numbers from text\n",
        "remove_digits = str.maketrans('', '', digits)\n",
        "lines['english']=lines['english'].apply(lambda x: x.translate(remove_digits))\n",
        "lines['spanish']=lines['spanish'].apply(lambda x: x.translate(remove_digits))\n",
        "\n",
        "\n",
        "# Remove extra spaces\n",
        "lines['english']=lines['english'].apply(lambda x: x.strip())\n",
        "lines['spanish']=lines['spanish'].apply(lambda x: x.strip())\n",
        "lines['english']=lines['english'].apply(lambda x: re.sub(\" +\", \" \", x))\n",
        "lines['spanish']=lines['spanish'].apply(lambda x: re.sub(\" +\", \" \", x))\n",
        "\n",
        "# Add start and end tokens to target sequences\n",
        "lines['spanish'] = lines['spanish'].apply(lambda x : 'START_ '+ x + ' _END')"
      ],
      "execution_count": 0,
      "outputs": []
    },
    {
      "cell_type": "code",
      "metadata": {
        "id": "K0CqG_4de8Ti",
        "colab_type": "code",
        "outputId": "b7c7a9e0-d80f-4772-a791-03b969a801d7",
        "colab": {
          "base_uri": "https://localhost:8080/",
          "height": 204
        }
      },
      "source": [
        "lines.head()"
      ],
      "execution_count": 0,
      "outputs": [
        {
          "output_type": "execute_result",
          "data": {
            "text/html": [
              "<div>\n",
              "<style scoped>\n",
              "    .dataframe tbody tr th:only-of-type {\n",
              "        vertical-align: middle;\n",
              "    }\n",
              "\n",
              "    .dataframe tbody tr th {\n",
              "        vertical-align: top;\n",
              "    }\n",
              "\n",
              "    .dataframe thead th {\n",
              "        text-align: right;\n",
              "    }\n",
              "</style>\n",
              "<table border=\"1\" class=\"dataframe\">\n",
              "  <thead>\n",
              "    <tr style=\"text-align: right;\">\n",
              "      <th></th>\n",
              "      <th>english</th>\n",
              "      <th>spanish</th>\n",
              "    </tr>\n",
              "  </thead>\n",
              "  <tbody>\n",
              "    <tr>\n",
              "      <th>112706</th>\n",
              "      <td>tom entered his office and saw a box on his desk</td>\n",
              "      <td>START_ tom entrã³ a su oficina y vio una caja sobre el escritorio _END</td>\n",
              "    </tr>\n",
              "    <tr>\n",
              "      <th>39299</th>\n",
              "      <td>the trees were in a row</td>\n",
              "      <td>START_ los ã¡rboles estaban en lã­nea _END</td>\n",
              "    </tr>\n",
              "    <tr>\n",
              "      <th>115199</th>\n",
              "      <td>my uncle went to mexico in</td>\n",
              "      <td>START_ never to come back _END</td>\n",
              "    </tr>\n",
              "    <tr>\n",
              "      <th>39449</th>\n",
              "      <td>this book is very heavy</td>\n",
              "      <td>START_ este libro es muy pesado _END</td>\n",
              "    </tr>\n",
              "    <tr>\n",
              "      <th>11509</th>\n",
              "      <td>im sure of this</td>\n",
              "      <td>START_ estoy bastante seguro _END</td>\n",
              "    </tr>\n",
              "  </tbody>\n",
              "</table>\n",
              "</div>"
            ],
            "text/plain": [
              "                                                 english                                                                 spanish\n",
              "112706  tom entered his office and saw a box on his desk  START_ tom entrã³ a su oficina y vio una caja sobre el escritorio _END\n",
              "39299   the trees were in a row                           START_ los ã¡rboles estaban en lã­nea _END                            \n",
              "115199  my uncle went to mexico in                        START_ never to come back _END                                        \n",
              "39449   this book is very heavy                           START_ este libro es muy pesado _END                                  \n",
              "11509   im sure of this                                   START_ estoy bastante seguro _END                                     "
            ]
          },
          "metadata": {
            "tags": []
          },
          "execution_count": 48
        }
      ]
    },
    {
      "cell_type": "code",
      "metadata": {
        "id": "ZuX7UVWpfNxx",
        "colab_type": "code",
        "outputId": "c661dacd-6359-4827-9efc-9c15cba840a7",
        "colab": {
          "base_uri": "https://localhost:8080/",
          "height": 221
        }
      },
      "source": [
        "### Get English and Spanish Vocabulary\n",
        "all_eng_words=set()\n",
        "for eng in lines['english']:\n",
        "    for word in eng.split():\n",
        "        if word not in all_eng_words:\n",
        "            all_eng_words.add(word)\n",
        "\n",
        "all_spanish_words=set()\n",
        "for spa in lines['spanish']:\n",
        "    for word in spa.split():\n",
        "        if word not in all_spanish_words:\n",
        "            all_spanish_words.add(word)\n",
        "\n",
        "lines['length_eng_sentence']=lines['english'].apply(lambda x:len(x.split(\" \")))\n",
        "lines['length_spa_sentence']=lines['spanish'].apply(lambda x:len(x.split(\" \")))\n",
        "lines.head()"
      ],
      "execution_count": 0,
      "outputs": [
        {
          "output_type": "execute_result",
          "data": {
            "text/html": [
              "<div>\n",
              "<style scoped>\n",
              "    .dataframe tbody tr th:only-of-type {\n",
              "        vertical-align: middle;\n",
              "    }\n",
              "\n",
              "    .dataframe tbody tr th {\n",
              "        vertical-align: top;\n",
              "    }\n",
              "\n",
              "    .dataframe thead th {\n",
              "        text-align: right;\n",
              "    }\n",
              "</style>\n",
              "<table border=\"1\" class=\"dataframe\">\n",
              "  <thead>\n",
              "    <tr style=\"text-align: right;\">\n",
              "      <th></th>\n",
              "      <th>english</th>\n",
              "      <th>spanish</th>\n",
              "      <th>length_eng_sentence</th>\n",
              "      <th>length_spa_sentence</th>\n",
              "    </tr>\n",
              "  </thead>\n",
              "  <tbody>\n",
              "    <tr>\n",
              "      <th>112706</th>\n",
              "      <td>tom entered his office and saw a box on his desk</td>\n",
              "      <td>START_ tom entrã³ a su oficina y vio una caja sobre el escritorio _END</td>\n",
              "      <td>11</td>\n",
              "      <td>14</td>\n",
              "    </tr>\n",
              "    <tr>\n",
              "      <th>39299</th>\n",
              "      <td>the trees were in a row</td>\n",
              "      <td>START_ los ã¡rboles estaban en lã­nea _END</td>\n",
              "      <td>6</td>\n",
              "      <td>7</td>\n",
              "    </tr>\n",
              "    <tr>\n",
              "      <th>115199</th>\n",
              "      <td>my uncle went to mexico in</td>\n",
              "      <td>START_ never to come back _END</td>\n",
              "      <td>6</td>\n",
              "      <td>6</td>\n",
              "    </tr>\n",
              "    <tr>\n",
              "      <th>39449</th>\n",
              "      <td>this book is very heavy</td>\n",
              "      <td>START_ este libro es muy pesado _END</td>\n",
              "      <td>5</td>\n",
              "      <td>7</td>\n",
              "    </tr>\n",
              "    <tr>\n",
              "      <th>11509</th>\n",
              "      <td>im sure of this</td>\n",
              "      <td>START_ estoy bastante seguro _END</td>\n",
              "      <td>4</td>\n",
              "      <td>5</td>\n",
              "    </tr>\n",
              "  </tbody>\n",
              "</table>\n",
              "</div>"
            ],
            "text/plain": [
              "                                                 english                                                                 spanish  length_eng_sentence  length_spa_sentence\n",
              "112706  tom entered his office and saw a box on his desk  START_ tom entrã³ a su oficina y vio una caja sobre el escritorio _END  11                   14                 \n",
              "39299   the trees were in a row                           START_ los ã¡rboles estaban en lã­nea _END                              6                    7                  \n",
              "115199  my uncle went to mexico in                        START_ never to come back _END                                          6                    6                  \n",
              "39449   this book is very heavy                           START_ este libro es muy pesado _END                                    5                    7                  \n",
              "11509   im sure of this                                   START_ estoy bastante seguro _END                                       4                    5                  "
            ]
          },
          "metadata": {
            "tags": []
          },
          "execution_count": 50
        }
      ]
    },
    {
      "cell_type": "code",
      "metadata": {
        "id": "CMsyTCamgX_2",
        "colab_type": "code",
        "outputId": "4f82c059-79df-4b41-91c7-0b673ef23a28",
        "colab": {
          "base_uri": "https://localhost:8080/",
          "height": 444
        }
      },
      "source": [
        "lines=lines[lines['length_eng_sentence']<=20]\n",
        "lines=lines[lines['length_spa_sentence']<=20]\n",
        "print(\"maximum length of Spanish Sentence \",max(lines['length_spa_sentence']))\n",
        "print(\"maximum length of English Sentence \",max(lines['length_eng_sentence']))\n",
        "\n",
        "max_length_src=max(lines['length_spa_sentence'])\n",
        "max_length_tar=max(lines['length_eng_sentence'])\n",
        "\n",
        "input_words = sorted(list(all_eng_words))\n",
        "target_words = sorted(list(all_spanish_words))\n",
        "num_encoder_tokens = len(all_eng_words)\n",
        "num_decoder_tokens = len(all_spanish_words)\n",
        "num_encoder_tokens, num_decoder_tokens\n",
        "num_decoder_tokens += 1 #for zero padding\n",
        "\n",
        "input_token_index = dict([(word, i+1) for i, word in enumerate(input_words)])\n",
        "target_token_index = dict([(word, i+1) for i, word in enumerate(target_words)])\n",
        "\n",
        "reverse_input_char_index = dict((i, word) for word, i in input_token_index.items())\n",
        "reverse_target_char_index = dict((i, word) for word, i in target_token_index.items())\n",
        "lines = shuffle(lines)\n",
        "lines.head(10)"
      ],
      "execution_count": 0,
      "outputs": [
        {
          "output_type": "stream",
          "text": [
            "maximum length of Spanish Sentence  20\n",
            "maximum length of English Sentence  20\n"
          ],
          "name": "stdout"
        },
        {
          "output_type": "execute_result",
          "data": {
            "text/html": [
              "<div>\n",
              "<style scoped>\n",
              "    .dataframe tbody tr th:only-of-type {\n",
              "        vertical-align: middle;\n",
              "    }\n",
              "\n",
              "    .dataframe tbody tr th {\n",
              "        vertical-align: top;\n",
              "    }\n",
              "\n",
              "    .dataframe thead th {\n",
              "        text-align: right;\n",
              "    }\n",
              "</style>\n",
              "<table border=\"1\" class=\"dataframe\">\n",
              "  <thead>\n",
              "    <tr style=\"text-align: right;\">\n",
              "      <th></th>\n",
              "      <th>english</th>\n",
              "      <th>spanish</th>\n",
              "      <th>length_eng_sentence</th>\n",
              "      <th>length_spa_sentence</th>\n",
              "    </tr>\n",
              "  </thead>\n",
              "  <tbody>\n",
              "    <tr>\n",
              "      <th>80235</th>\n",
              "      <td>lets do only one thing at a time</td>\n",
              "      <td>START_ hagamos las cosas de una en una _END</td>\n",
              "      <td>8</td>\n",
              "      <td>9</td>\n",
              "    </tr>\n",
              "    <tr>\n",
              "      <th>8569</th>\n",
              "      <td>i read the book</td>\n",
              "      <td>START_ leo el libro _END</td>\n",
              "      <td>4</td>\n",
              "      <td>5</td>\n",
              "    </tr>\n",
              "    <tr>\n",
              "      <th>118126</th>\n",
              "      <td>a girl gave me an orange in exchange for a piece of cake</td>\n",
              "      <td>START_ una chica me dio una naranja a cambio de un trozo de tarta _END</td>\n",
              "      <td>13</td>\n",
              "      <td>15</td>\n",
              "    </tr>\n",
              "    <tr>\n",
              "      <th>103160</th>\n",
              "      <td>i should have been watching more carefully</td>\n",
              "      <td>START_ deberã­a haber estado observando con mã¡s atenciã³n _END</td>\n",
              "      <td>7</td>\n",
              "      <td>9</td>\n",
              "    </tr>\n",
              "    <tr>\n",
              "      <th>8590</th>\n",
              "      <td>i see his house</td>\n",
              "      <td>START_ yo veo su casa _END</td>\n",
              "      <td>4</td>\n",
              "      <td>6</td>\n",
              "    </tr>\n",
              "    <tr>\n",
              "      <th>66193</th>\n",
              "      <td>whats your area of expertise</td>\n",
              "      <td>START_ â¿en quã© campo eres experto _END</td>\n",
              "      <td>5</td>\n",
              "      <td>7</td>\n",
              "    </tr>\n",
              "    <tr>\n",
              "      <th>20251</th>\n",
              "      <td>do you want my help</td>\n",
              "      <td>START_ â¿quieres mi ayuda _END</td>\n",
              "      <td>5</td>\n",
              "      <td>5</td>\n",
              "    </tr>\n",
              "    <tr>\n",
              "      <th>104939</th>\n",
              "      <td>i think its time for me to go back to work</td>\n",
              "      <td>START_ creo que es hora de que regrese al trabajo _END</td>\n",
              "      <td>11</td>\n",
              "      <td>11</td>\n",
              "    </tr>\n",
              "    <tr>\n",
              "      <th>22941</th>\n",
              "      <td>tom is kind to mary</td>\n",
              "      <td>START_ tom es gentil con mary _END</td>\n",
              "      <td>5</td>\n",
              "      <td>7</td>\n",
              "    </tr>\n",
              "    <tr>\n",
              "      <th>7488</th>\n",
              "      <td>wait out front</td>\n",
              "      <td>START_ espera enfrente _END</td>\n",
              "      <td>3</td>\n",
              "      <td>4</td>\n",
              "    </tr>\n",
              "  </tbody>\n",
              "</table>\n",
              "</div>"
            ],
            "text/plain": [
              "                                                         english                                                                 spanish  length_eng_sentence  length_spa_sentence\n",
              "80235   lets do only one thing at a time                          START_ hagamos las cosas de una en una _END                             8                    9                  \n",
              "8569    i read the book                                           START_ leo el libro _END                                                4                    5                  \n",
              "118126  a girl gave me an orange in exchange for a piece of cake  START_ una chica me dio una naranja a cambio de un trozo de tarta _END  13                   15                 \n",
              "103160  i should have been watching more carefully                START_ deberã­a haber estado observando con mã¡s atenciã³n _END         7                    9                  \n",
              "8590    i see his house                                           START_ yo veo su casa _END                                              4                    6                  \n",
              "66193   whats your area of expertise                              START_ â¿en quã© campo eres experto _END                                5                    7                  \n",
              "20251   do you want my help                                       START_ â¿quieres mi ayuda _END                                          5                    5                  \n",
              "104939  i think its time for me to go back to work                START_ creo que es hora de que regrese al trabajo _END                  11                   11                 \n",
              "22941   tom is kind to mary                                       START_ tom es gentil con mary _END                                      5                    7                  \n",
              "7488    wait out front                                            START_ espera enfrente _END                                             3                    4                  "
            ]
          },
          "metadata": {
            "tags": []
          },
          "execution_count": 51
        }
      ]
    },
    {
      "cell_type": "code",
      "metadata": {
        "id": "hqxNr92Gg043",
        "colab_type": "code",
        "outputId": "7241eb65-981e-4042-c668-29ac4628adff",
        "colab": {
          "base_uri": "https://localhost:8080/",
          "height": 34
        }
      },
      "source": [
        "X, y = lines['english'], lines['spanish']\n",
        "X_train, X_test, y_train, y_test = train_test_split(X, y, test_size = 0.2,random_state=42)\n",
        "X_train.shape, X_test.shape"
      ],
      "execution_count": 0,
      "outputs": [
        {
          "output_type": "execute_result",
          "data": {
            "text/plain": [
              "((95880,), (23970,))"
            ]
          },
          "metadata": {
            "tags": []
          },
          "execution_count": 53
        }
      ]
    },
    {
      "cell_type": "markdown",
      "metadata": {
        "id": "Qp5VdAnIAMWb",
        "colab_type": "text"
      },
      "source": [
        "##Generator to generate the data for training"
      ]
    },
    {
      "cell_type": "code",
      "metadata": {
        "id": "LeH2vARvg8U-",
        "colab_type": "code",
        "colab": {}
      },
      "source": [
        "def generate_batch(X = X_train, y = y_train, batch_size = 128):\n",
        "    ''' Generate a batch of data '''\n",
        "    while True:\n",
        "        for j in range(0, len(X), batch_size):\n",
        "            encoder_input_data = np.zeros((batch_size, max_length_src),dtype='float32')\n",
        "            decoder_input_data = np.zeros((batch_size, max_length_tar),dtype='float32')\n",
        "            decoder_target_data = np.zeros((batch_size, max_length_tar, num_decoder_tokens),dtype='float32')\n",
        "            for i, (input_text, target_text) in enumerate(zip(X[j:j+batch_size], y[j:j+batch_size])):\n",
        "                for t, word in enumerate(input_text.split()):\n",
        "                    encoder_input_data[i, t] = input_token_index[word] # encoder input seq\n",
        "                for t, word in enumerate(target_text.split()):\n",
        "                    if t<len(target_text.split())-1:\n",
        "                        decoder_input_data[i, t] = target_token_index[word] # decoder input seq\n",
        "                    if t>0:\n",
        "                        # decoder target sequence (one hot encoded)\n",
        "                        # does not include the START_ token\n",
        "                        # Offset by one timestep\n",
        "                        decoder_target_data[i, t - 1, target_token_index[word]] = 1.\n",
        "            yield([encoder_input_data, decoder_input_data], decoder_target_data)"
      ],
      "execution_count": 0,
      "outputs": []
    },
    {
      "cell_type": "markdown",
      "metadata": {
        "id": "_9-qbW_OAW23",
        "colab_type": "text"
      },
      "source": [
        "##Create the model"
      ]
    },
    {
      "cell_type": "code",
      "metadata": {
        "id": "3XizX5Qcg_s6",
        "colab_type": "code",
        "colab": {}
      },
      "source": [
        "#Model\n",
        "\n",
        "latent_dim=300\n",
        "# Encoder\n",
        "encoder_inputs = Input(shape=(None, ))\n",
        "enc_emb =  Embedding(num_encoder_tokens, latent_dim, mask_zero = True)(encoder_inputs)\n",
        "encoder_lstm = LSTM(latent_dim, return_state=True)\n",
        "encoder_outputs, state_h, state_c = encoder_lstm(enc_emb)\n",
        "# We discard `encoder_outputs` and only keep the states.\n",
        "encoder_states = [state_h, state_c]\n",
        "# Set up the decoder, using `encoder_states` as initial state.\n",
        "\n",
        "\n",
        "decoder_inputs = Input(shape=(None,))\n",
        "dec_emb_layer = Embedding(num_decoder_tokens, latent_dim, mask_zero = True)\n",
        "dec_emb = dec_emb_layer(decoder_inputs)\n",
        "# We set up our decoder to return full output sequences,\n",
        "# and to return internal states as well. We don't use the\n",
        "# return states in the training model, but we will use them in inference.\n",
        "decoder_lstm = LSTM(latent_dim, return_sequences=True, return_state=True)\n",
        "decoder_outputs, _, _ = decoder_lstm(dec_emb,\n",
        "                                     initial_state=encoder_states)\n",
        "decoder_dense = Dense(num_decoder_tokens, activation='softmax')\n",
        "decoder_outputs = decoder_dense(decoder_outputs)\n",
        "\n",
        "# Define the model that will turn\n",
        "# `encoder_input_data` & `decoder_input_data` into `decoder_target_data`\n",
        "model = Model([encoder_inputs, decoder_inputs], decoder_outputs)"
      ],
      "execution_count": 0,
      "outputs": []
    },
    {
      "cell_type": "code",
      "metadata": {
        "id": "gcYQ50u5hI3W",
        "colab_type": "code",
        "colab": {}
      },
      "source": [
        "model.compile(optimizer='rmsprop', loss='categorical_crossentropy')"
      ],
      "execution_count": 0,
      "outputs": []
    },
    {
      "cell_type": "code",
      "metadata": {
        "id": "nQeU1QfYhNPX",
        "colab_type": "code",
        "outputId": "54bcd563-54ab-4315-f111-1a69c785d5af",
        "colab": {
          "base_uri": "https://localhost:8080/",
          "height": 425
        }
      },
      "source": [
        "model.summary()"
      ],
      "execution_count": 0,
      "outputs": [
        {
          "output_type": "stream",
          "text": [
            "Model: \"model_1\"\n",
            "__________________________________________________________________________________________________\n",
            "Layer (type)                    Output Shape         Param #     Connected to                     \n",
            "==================================================================================================\n",
            "input_1 (InputLayer)            (None, None)         0                                            \n",
            "__________________________________________________________________________________________________\n",
            "input_2 (InputLayer)            (None, None)         0                                            \n",
            "__________________________________________________________________________________________________\n",
            "embedding_1 (Embedding)         (None, None, 300)    3942300     input_1[0][0]                    \n",
            "__________________________________________________________________________________________________\n",
            "embedding_2 (Embedding)         (None, None, 300)    8592000     input_2[0][0]                    \n",
            "__________________________________________________________________________________________________\n",
            "lstm_1 (LSTM)                   [(None, 300), (None, 721200      embedding_1[0][0]                \n",
            "__________________________________________________________________________________________________\n",
            "lstm_2 (LSTM)                   [(None, None, 300),  721200      embedding_2[0][0]                \n",
            "                                                                 lstm_1[0][1]                     \n",
            "                                                                 lstm_1[0][2]                     \n",
            "__________________________________________________________________________________________________\n",
            "dense_1 (Dense)                 (None, None, 28640)  8620640     lstm_2[0][0]                     \n",
            "==================================================================================================\n",
            "Total params: 22,597,340\n",
            "Trainable params: 22,597,340\n",
            "Non-trainable params: 0\n",
            "__________________________________________________________________________________________________\n"
          ],
          "name": "stdout"
        }
      ]
    },
    {
      "cell_type": "code",
      "metadata": {
        "id": "PKw6xFHDhQYN",
        "colab_type": "code",
        "colab": {}
      },
      "source": [
        "train_samples = len(X_train)\n",
        "val_samples = len(X_test)\n",
        "batch_size = 128\n",
        "epochs = 10"
      ],
      "execution_count": 0,
      "outputs": []
    },
    {
      "cell_type": "markdown",
      "metadata": {
        "id": "z9L574WXAzGw",
        "colab_type": "text"
      },
      "source": [
        "##Train the model"
      ]
    },
    {
      "cell_type": "code",
      "metadata": {
        "id": "ZGdrrkXNhShq",
        "colab_type": "code",
        "outputId": "6035e00a-75b6-469d-d2da-f5ce0ac73477",
        "colab": {
          "base_uri": "https://localhost:8080/",
          "height": 428
        }
      },
      "source": [
        "model.fit_generator(generator = generate_batch(X_train, y_train, batch_size = batch_size),\n",
        "                    steps_per_epoch = train_samples//batch_size,\n",
        "                    epochs=epochs,\n",
        "                    validation_data = generate_batch(X_test, y_test, batch_size = batch_size),\n",
        "                    validation_steps = val_samples//batch_size)"
      ],
      "execution_count": 0,
      "outputs": [
        {
          "output_type": "stream",
          "text": [
            "/usr/local/lib/python3.6/dist-packages/tensorflow/python/framework/indexed_slices.py:434: UserWarning: Converting sparse IndexedSlices to a dense Tensor of unknown shape. This may consume a large amount of memory.\n",
            "  \"Converting sparse IndexedSlices to a dense Tensor of unknown shape. \"\n"
          ],
          "name": "stderr"
        },
        {
          "output_type": "stream",
          "text": [
            "Epoch 1/10\n",
            "749/749 [==============================] - 258s 344ms/step - loss: 1.8005 - val_loss: 1.6503\n",
            "Epoch 2/10\n",
            "749/749 [==============================] - 249s 332ms/step - loss: 1.3871 - val_loss: 1.3706\n",
            "Epoch 3/10\n",
            "749/749 [==============================] - 248s 331ms/step - loss: 1.1880 - val_loss: 1.1528\n",
            "Epoch 4/10\n",
            "749/749 [==============================] - 246s 328ms/step - loss: 1.0544 - val_loss: 1.0443\n",
            "Epoch 5/10\n",
            "749/749 [==============================] - 245s 327ms/step - loss: 0.9563 - val_loss: 1.0547\n",
            "Epoch 6/10\n",
            "749/749 [==============================] - 246s 329ms/step - loss: 0.8843 - val_loss: 1.0580\n",
            "Epoch 7/10\n",
            "749/749 [==============================] - 251s 335ms/step - loss: 0.8254 - val_loss: 1.0533\n",
            "Epoch 8/10\n",
            "749/749 [==============================] - 254s 339ms/step - loss: 0.7771 - val_loss: 0.9835\n",
            "Epoch 9/10\n",
            "749/749 [==============================] - 255s 340ms/step - loss: 0.7357 - val_loss: 1.0174\n",
            "Epoch 10/10\n",
            "749/749 [==============================] - 254s 339ms/step - loss: 0.7008 - val_loss: 0.9959\n"
          ],
          "name": "stdout"
        },
        {
          "output_type": "execute_result",
          "data": {
            "text/plain": [
              "<keras.callbacks.callbacks.History at 0x7ff7b17604e0>"
            ]
          },
          "metadata": {
            "tags": []
          },
          "execution_count": 60
        }
      ]
    },
    {
      "cell_type": "code",
      "metadata": {
        "id": "FwjFtBeRhX1T",
        "colab_type": "code",
        "colab": {}
      },
      "source": [
        "model.save_weights('nmt_weights.h5')"
      ],
      "execution_count": 0,
      "outputs": []
    },
    {
      "cell_type": "markdown",
      "metadata": {
        "id": "6BN2qIlr_oHR",
        "colab_type": "text"
      },
      "source": [
        "##Generate Translation"
      ]
    },
    {
      "cell_type": "code",
      "metadata": {
        "id": "iAorEE5lhjZR",
        "colab_type": "code",
        "colab": {}
      },
      "source": [
        "# Encode the input sequence to get the \"thought vectors\"\n",
        "encoder_model = Model(encoder_inputs, encoder_states)\n",
        "\n",
        "# Decoder setup\n",
        "# Below tensors will hold the states of the previous time step\n",
        "decoder_state_input_h = Input(shape=(latent_dim,))\n",
        "decoder_state_input_c = Input(shape=(latent_dim,))\n",
        "decoder_states_inputs = [decoder_state_input_h, decoder_state_input_c]\n",
        "\n",
        "dec_emb2= dec_emb_layer(decoder_inputs) # Get the embeddings of the decoder sequence\n",
        "\n",
        "# To predict the next word in the sequence, set the initial states to the states from the previous time step\n",
        "decoder_outputs2, state_h2, state_c2 = decoder_lstm(dec_emb2, initial_state=decoder_states_inputs)\n",
        "decoder_states2 = [state_h2, state_c2]\n",
        "decoder_outputs2 = decoder_dense(decoder_outputs2) # A dense softmax layer to generate prob dist. over the target vocabulary\n",
        "\n",
        "# Final decoder model\n",
        "decoder_model = Model(\n",
        "    [decoder_inputs] + decoder_states_inputs,\n",
        "    [decoder_outputs2] + decoder_states2)\n",
        "\n",
        "\n",
        "def decode_sequence(input_seq):\n",
        "    # Encode the input as state vectors.\n",
        "    states_value = encoder_model.predict(input_seq)\n",
        "    # Generate empty target sequence of length 1.\n",
        "    target_seq = np.zeros((1,1))\n",
        "    # Populate the first character of target sequence with the start character.\n",
        "    target_seq[0, 0] = target_token_index['START_']\n",
        "\n",
        "    # Sampling loop for a batch of sequences\n",
        "    # (to simplify, here we assume a batch of size 1).\n",
        "    stop_condition = False\n",
        "    decoded_sentence = ''\n",
        "    while not stop_condition:\n",
        "        output_tokens, h, c = decoder_model.predict([target_seq] + states_value)\n",
        "\n",
        "        # Sample a token\n",
        "        sampled_token_index = np.argmax(output_tokens[0, -1, :])\n",
        "        sampled_char = reverse_target_char_index[sampled_token_index]\n",
        "        decoded_sentence += ' '+sampled_char\n",
        "\n",
        "        # Exit condition: either hit max length\n",
        "        # or find stop character.\n",
        "        if (sampled_char == '_END' or\n",
        "           len(decoded_sentence) > 50):\n",
        "            stop_condition = True\n",
        "\n",
        "        # Update the target sequence (of length 1).\n",
        "        target_seq = np.zeros((1,1))\n",
        "        target_seq[0, 0] = sampled_token_index\n",
        "\n",
        "        # Update states\n",
        "        states_value = [h, c]\n",
        "\n",
        "    return decoded_sentence"
      ],
      "execution_count": 0,
      "outputs": []
    },
    {
      "cell_type": "code",
      "metadata": {
        "id": "nED_M_0Ciy1J",
        "colab_type": "code",
        "colab": {}
      },
      "source": [
        "train_gen = generate_batch(X_train, y_train, batch_size = 1)\n",
        "k=-1"
      ],
      "execution_count": 0,
      "outputs": []
    },
    {
      "cell_type": "code",
      "metadata": {
        "id": "HwKG6pNli1EU",
        "colab_type": "code",
        "outputId": "73e05a8e-4495-456f-8a4c-73e3969f9b31",
        "colab": {
          "base_uri": "https://localhost:8080/",
          "height": 68
        }
      },
      "source": [
        "k+=1\n",
        "(input_seq, actual_output), _ = next(train_gen)\n",
        "decoded_sentence = decode_sequence(input_seq)\n",
        "print('Input English sentence:', X_train[k:k+1].values[0])\n",
        "print('Actual Spanish Translation:', y_train[k:k+1].values[0][6:-4])\n",
        "print('Predicted Spanish Translation:', decoded_sentence[:-4])"
      ],
      "execution_count": 0,
      "outputs": [
        {
          "output_type": "stream",
          "text": [
            "Input English sentence: should i open the windows\n",
            "Actual Hindi Translation:  â¿deberã­a abrir las ventanas \n",
            "Predicted Hindi Translation:  â¿deberã­a abrir las ventanas \n"
          ],
          "name": "stdout"
        }
      ]
    },
    {
      "cell_type": "code",
      "metadata": {
        "id": "MBbHhhAxIiXq",
        "colab_type": "code",
        "colab": {}
      },
      "source": [
        ""
      ],
      "execution_count": 0,
      "outputs": []
    }
  ]
}