{
  "nbformat": 4,
  "nbformat_minor": 0,
  "metadata": {
    "colab": {
      "name": "Module3_Google_RNN_GRU.ipynb",
      "provenance": [],
      "collapsed_sections": [],
      "toc_visible": true
    },
    "kernelspec": {
      "name": "python3",
      "display_name": "Python 3"
    },
    "accelerator": "GPU"
  },
  "cells": [
    {
      "cell_type": "markdown",
      "metadata": {
        "id": "HOz_bayuNWOk",
        "colab_type": "text"
      },
      "source": [
        "#Predicting Google stock prices Using RNN GRU Model\n",
        "\n",
        "This use-case provides a demo of how RNN and GRU can be used to model time series data. In our use-case, we will use 'Google stock price' data to predict the number of future stock prices based on the available historical data. \n",
        "\n",
        "Workflow:\n",
        "\n",
        "\n",
        "1.   Understanding the problem\n",
        "2.   Collecting the data\n",
        "3.   Data preprocessing\n",
        "4.   Build Model using RNN & Grated Recurrent Unit (GRU)\n",
        "5.   Training the dataset\n",
        "6.   Predict \n"
      ]
    },
    {
      "cell_type": "markdown",
      "metadata": {
        "id": "9APv82ErN4G6",
        "colab_type": "text"
      },
      "source": [
        "##1. Understanding the problem\n",
        "You have been given a dataset that contains google stock prices from 2013 to 2018. We have to model the time series data using RNN GRU sequential model."
      ]
    },
    {
      "cell_type": "markdown",
      "metadata": {
        "id": "tqRyadysKhPY",
        "colab_type": "text"
      },
      "source": [
        "Import python library"
      ]
    },
    {
      "cell_type": "code",
      "metadata": {
        "id": "3Fi0iNhobDC6",
        "colab_type": "code",
        "colab": {
          "base_uri": "https://localhost:8080/",
          "height": 34
        },
        "outputId": "786b47ed-5c81-458e-ba46-e873863286d0"
      },
      "source": [
        "# Importing the libraries\n",
        "import numpy as np\n",
        "import matplotlib.pyplot as plt\n",
        "plt.style.use('fivethirtyeight')\n",
        "import pandas as pd\n",
        "from sklearn.preprocessing import MinMaxScaler\n",
        "from keras.models import Sequential\n",
        "from keras.layers import Dense, LSTM, Dropout, GRU, Bidirectional,SimpleRNN\n",
        "from keras.optimizers import SGD\n",
        "import math\n",
        "from sklearn.metrics import mean_squared_error"
      ],
      "execution_count": 1,
      "outputs": [
        {
          "output_type": "stream",
          "text": [
            "Using TensorFlow backend.\n"
          ],
          "name": "stderr"
        }
      ]
    },
    {
      "cell_type": "code",
      "metadata": {
        "id": "eis3MYR_MGsn",
        "colab_type": "code",
        "colab": {}
      },
      "source": [
        "# Some functions to help out with predictions\n",
        "def predictions_plot(test,predicted):\n",
        "    plt.plot(test, color='red',label='Real Google Stock Price')\n",
        "    plt.plot(predicted, color='blue',label='Predicted Google Stock Price')\n",
        "    plt.title('Google Stock Price Prediction')\n",
        "    plt.xlabel('Time')\n",
        "    plt.ylabel('Google Stock Price')\n",
        "    plt.legend()\n",
        "    plt.show()\n",
        "\n",
        "def rmse_return(test,predicted):\n",
        "    rmse = math.sqrt(mean_squared_error(test, predicted))\n",
        "    print(\"The root mean squared error is {}.\".format(rmse))"
      ],
      "execution_count": 2,
      "outputs": []
    },
    {
      "cell_type": "markdown",
      "metadata": {
        "id": "utaUHrUwOPop",
        "colab_type": "text"
      },
      "source": [
        "##2. Collecting the Data\n",
        "The dataset trainset.csv will be used for the demo. The dataset contains google stock prices from 2013 to 2018. It has been downloaded from the site https://www.kaggle.com/ptheru/google-stock-price-prediction-rnn/data \n",
        " \n",
        "\n",
        "Load the dataset using pandas read_csv function."
      ]
    },
    {
      "cell_type": "code",
      "metadata": {
        "id": "wMQh5UJBbDId",
        "colab_type": "code",
        "colab": {
          "base_uri": "https://localhost:8080/",
          "height": 235
        },
        "outputId": "e6572d38-44be-4229-f5fd-ae26f4c63509"
      },
      "source": [
        "# First, we get the data\n",
        "dataset = pd.read_csv('/content/trainset.csv', index_col='Date', parse_dates=['Date'])\n",
        "dataset.head()"
      ],
      "execution_count": 3,
      "outputs": [
        {
          "output_type": "execute_result",
          "data": {
            "text/html": [
              "<div>\n",
              "<style scoped>\n",
              "    .dataframe tbody tr th:only-of-type {\n",
              "        vertical-align: middle;\n",
              "    }\n",
              "\n",
              "    .dataframe tbody tr th {\n",
              "        vertical-align: top;\n",
              "    }\n",
              "\n",
              "    .dataframe thead th {\n",
              "        text-align: right;\n",
              "    }\n",
              "</style>\n",
              "<table border=\"1\" class=\"dataframe\">\n",
              "  <thead>\n",
              "    <tr style=\"text-align: right;\">\n",
              "      <th></th>\n",
              "      <th>Open</th>\n",
              "      <th>High</th>\n",
              "      <th>Low</th>\n",
              "      <th>Close</th>\n",
              "      <th>Adj Close</th>\n",
              "      <th>Volume</th>\n",
              "    </tr>\n",
              "    <tr>\n",
              "      <th>Date</th>\n",
              "      <th></th>\n",
              "      <th></th>\n",
              "      <th></th>\n",
              "      <th></th>\n",
              "      <th></th>\n",
              "      <th></th>\n",
              "    </tr>\n",
              "  </thead>\n",
              "  <tbody>\n",
              "    <tr>\n",
              "      <th>2013-01-02</th>\n",
              "      <td>357.385559</td>\n",
              "      <td>361.151062</td>\n",
              "      <td>355.959839</td>\n",
              "      <td>359.288177</td>\n",
              "      <td>359.288177</td>\n",
              "      <td>5115500</td>\n",
              "    </tr>\n",
              "    <tr>\n",
              "      <th>2013-01-03</th>\n",
              "      <td>360.122742</td>\n",
              "      <td>363.600128</td>\n",
              "      <td>358.031342</td>\n",
              "      <td>359.496826</td>\n",
              "      <td>359.496826</td>\n",
              "      <td>4666500</td>\n",
              "    </tr>\n",
              "    <tr>\n",
              "      <th>2013-01-04</th>\n",
              "      <td>362.313507</td>\n",
              "      <td>368.339294</td>\n",
              "      <td>361.488861</td>\n",
              "      <td>366.600616</td>\n",
              "      <td>366.600616</td>\n",
              "      <td>5562800</td>\n",
              "    </tr>\n",
              "    <tr>\n",
              "      <th>2013-01-07</th>\n",
              "      <td>365.348755</td>\n",
              "      <td>367.301056</td>\n",
              "      <td>362.929504</td>\n",
              "      <td>365.001007</td>\n",
              "      <td>365.001007</td>\n",
              "      <td>3332900</td>\n",
              "    </tr>\n",
              "    <tr>\n",
              "      <th>2013-01-08</th>\n",
              "      <td>365.393463</td>\n",
              "      <td>365.771027</td>\n",
              "      <td>359.874359</td>\n",
              "      <td>364.280701</td>\n",
              "      <td>364.280701</td>\n",
              "      <td>3373900</td>\n",
              "    </tr>\n",
              "  </tbody>\n",
              "</table>\n",
              "</div>"
            ],
            "text/plain": [
              "                  Open        High         Low       Close   Adj Close   Volume\n",
              "Date                                                                           \n",
              "2013-01-02  357.385559  361.151062  355.959839  359.288177  359.288177  5115500\n",
              "2013-01-03  360.122742  363.600128  358.031342  359.496826  359.496826  4666500\n",
              "2013-01-04  362.313507  368.339294  361.488861  366.600616  366.600616  5562800\n",
              "2013-01-07  365.348755  367.301056  362.929504  365.001007  365.001007  3332900\n",
              "2013-01-08  365.393463  365.771027  359.874359  364.280701  364.280701  3373900"
            ]
          },
          "metadata": {
            "tags": []
          },
          "execution_count": 3
        }
      ]
    },
    {
      "cell_type": "code",
      "metadata": {
        "id": "8FLlghxEE8c-",
        "colab_type": "code",
        "colab": {}
      },
      "source": [
        "# Checking for missing values in Training and Test set\n",
        "training_set = dataset[:'2017'].iloc[:,1:2].values\n",
        "test_set = dataset['2017':].iloc[:,1:2].values"
      ],
      "execution_count": 4,
      "outputs": []
    },
    {
      "cell_type": "markdown",
      "metadata": {
        "id": "rgReyNvEO1x4",
        "colab_type": "text"
      },
      "source": [
        "##Plot the data"
      ]
    },
    {
      "cell_type": "code",
      "metadata": {
        "id": "N7_wgVAnE8fl",
        "colab_type": "code",
        "colab": {
          "base_uri": "https://localhost:8080/",
          "height": 260
        },
        "outputId": "31d06a1d-5591-45e4-e282-6d2a4ada1cf4"
      },
      "source": [
        "# We have chosen 'High' attribute for prices. Let's see what it looks like\n",
        "dataset[\"High\"][:'2017'].plot(figsize=(16,4),legend=True)\n",
        "dataset[\"High\"]['2017':].plot(figsize=(16,4),legend=True)\n",
        "plt.legend(['Training set (Before 2017)','Test set (2017 and beyond)'])\n",
        "plt.title('Google stock price')\n",
        "plt.show()"
      ],
      "execution_count": 5,
      "outputs": [
        {
          "output_type": "display_data",
          "data": {
            "image/png": "[encoded data removed]",
            "text/plain": [
              "<Figure size 1152x288 with 1 Axes>"
            ]
          },
          "metadata": {
            "tags": [],
            "needs_background": "light"
          }
        }
      ]
    },
    {
      "cell_type": "code",
      "metadata": {
        "id": "2fuQlgdWE8iY",
        "colab_type": "code",
        "colab": {}
      },
      "source": [
        "# Scaling the training set\n",
        "sc = MinMaxScaler(feature_range=(0,1))\n",
        "training_set_scaled = sc.fit_transform(training_set)"
      ],
      "execution_count": 6,
      "outputs": []
    },
    {
      "cell_type": "code",
      "metadata": {
        "id": "X-HDCc64E8k-",
        "colab_type": "code",
        "colab": {}
      },
      "source": [
        "# Since RNN/GRU/LSTM store long term memory state, we create a data structure with 60 timesteps and 1 output\n",
        "# So for each element of training set, we have 60 previous training set elements \n",
        "X_train = []\n",
        "y_train = []\n",
        "for i in range(60,1250):\n",
        "    X_train.append(training_set_scaled[i-60:i,0])\n",
        "    y_train.append(training_set_scaled[i,0])\n",
        "X_train, y_train = np.array(X_train), np.array(y_train)"
      ],
      "execution_count": 7,
      "outputs": []
    },
    {
      "cell_type": "code",
      "metadata": {
        "id": "DY4AXVhaFIkp",
        "colab_type": "code",
        "colab": {}
      },
      "source": [
        "# Reshaping X_train for efficient modelling\n",
        "X_train = np.reshape(X_train, (X_train.shape[0],X_train.shape[1],1))"
      ],
      "execution_count": 8,
      "outputs": []
    },
    {
      "cell_type": "code",
      "metadata": {
        "id": "XxHqughlHpwK",
        "colab_type": "code",
        "colab": {}
      },
      "source": [
        "# Now to get the test set ready in a similar way as the training set.\n",
        "# The following has been done so forst 60 entires of test set have 60 previous values which is impossible to get unless we take the whole \n",
        "# 'High' attribute data for processing\n",
        "dataset_total = pd.concat((dataset[\"High\"][:'2017'],dataset[\"High\"]['2017':]),axis=0)\n",
        "inputs = dataset_total[len(dataset_total)-len(test_set) - 60:].values\n",
        "inputs = inputs.reshape(-1,1)\n",
        "inputs  = sc.transform(inputs)"
      ],
      "execution_count": 9,
      "outputs": []
    },
    {
      "cell_type": "markdown",
      "metadata": {
        "id": "i6GLogyLKrpr",
        "colab_type": "text"
      },
      "source": [
        "##Gated Recurrent Units\n",
        "\n",
        "In simple words, the GRU unit does not have to use a memory unit to control the flow of information like the LSTM unit. It can directly makes use of the all hidden states without any control. GRUs have fewer parameters and thus may train a bit faster or need less data to generalize. But, with large data, the LSTMs with higher expressiveness may lead to better results.\n",
        "\n",
        "They are almost similar to LSTMs except that they have two gates: reset gate and update gate. Reset gate determines how to combine new input to previous memory and update gate determines how much of the previous state to keep. Update gate in GRU is what input gate and forget gate were in LSTM. We don't have the second non linearity in GRU before calculating the outpu, .neither they have the output gate."
      ]
    },
    {
      "cell_type": "markdown",
      "metadata": {
        "id": "CMcwQz4nPZeR",
        "colab_type": "text"
      },
      "source": [
        "##Create the model"
      ]
    },
    {
      "cell_type": "code",
      "metadata": {
        "id": "AYY3w5jXVoR7",
        "colab_type": "code",
        "colab": {}
      },
      "source": [
        "# The GRU architecture\n",
        "regressorGRU = Sequential()\n",
        "# First GRU layer with Dropout regularisation\n",
        "regressorGRU.add(SimpleRNN(50, return_sequences=True, input_shape=(X_train.shape[1],1), activation='tanh'))\n",
        "regressorGRU.add(Dropout(0.2))\n",
        "# Second GRU layer\n",
        "regressorGRU.add(SimpleRNN(50, return_sequences=True, input_shape=(X_train.shape[1],1), activation='tanh'))\n",
        "regressorGRU.add(Dropout(0.2))\n",
        "# Third GRU layer\n",
        "regressorGRU.add(GRU(units=50, return_sequences=True, input_shape=(X_train.shape[1],1), activation='tanh'))\n",
        "regressorGRU.add(Dropout(0.2))\n",
        "# Fourth GRU layer\n",
        "regressorGRU.add(GRU(units=50, activation='tanh'))\n",
        "regressorGRU.add(Dropout(0.2))\n",
        "# The output layer\n",
        "regressorGRU.add(Dense(units=1))"
      ],
      "execution_count": 10,
      "outputs": []
    },
    {
      "cell_type": "code",
      "metadata": {
        "id": "QxCNFrBjVTjf",
        "colab_type": "code",
        "colab": {
          "base_uri": "https://localhost:8080/",
          "height": 459
        },
        "outputId": "59d1e97e-e2b9-47db-eb58-005842ac2462"
      },
      "source": [
        "regressorGRU.summary()"
      ],
      "execution_count": 11,
      "outputs": [
        {
          "output_type": "stream",
          "text": [
            "Model: \"sequential_1\"\n",
            "_________________________________________________________________\n",
            "Layer (type)                 Output Shape              Param #   \n",
            "=================================================================\n",
            "simple_rnn_1 (SimpleRNN)     (None, 60, 50)            2600      \n",
            "_________________________________________________________________\n",
            "dropout_1 (Dropout)          (None, 60, 50)            0         \n",
            "_________________________________________________________________\n",
            "simple_rnn_2 (SimpleRNN)     (None, 60, 50)            5050      \n",
            "_________________________________________________________________\n",
            "dropout_2 (Dropout)          (None, 60, 50)            0         \n",
            "_________________________________________________________________\n",
            "gru_1 (GRU)                  (None, 60, 50)            15150     \n",
            "_________________________________________________________________\n",
            "dropout_3 (Dropout)          (None, 60, 50)            0         \n",
            "_________________________________________________________________\n",
            "gru_2 (GRU)                  (None, 50)                15150     \n",
            "_________________________________________________________________\n",
            "dropout_4 (Dropout)          (None, 50)                0         \n",
            "_________________________________________________________________\n",
            "dense_1 (Dense)              (None, 1)                 51        \n",
            "=================================================================\n",
            "Total params: 38,001\n",
            "Trainable params: 38,001\n",
            "Non-trainable params: 0\n",
            "_________________________________________________________________\n"
          ],
          "name": "stdout"
        }
      ]
    },
    {
      "cell_type": "markdown",
      "metadata": {
        "id": "ap8OLefCPdEs",
        "colab_type": "text"
      },
      "source": [
        "##Train the model"
      ]
    },
    {
      "cell_type": "code",
      "metadata": {
        "id": "SNoJ5kk9FInf",
        "colab_type": "code",
        "colab": {
          "base_uri": "https://localhost:8080/",
          "height": 1000
        },
        "outputId": "2813a386-147b-4f3f-b84d-27b07c5f97da"
      },
      "source": [
        "# Compiling the GRU\n",
        "regressorGRU.compile(optimizer=SGD(lr=0.01, decay=1e-7, momentum=0.9, nesterov=False),loss='mean_squared_error')\n",
        "# Fitting to the training set\n",
        "regressorGRU.fit(X_train,y_train,epochs=50,batch_size=150)"
      ],
      "execution_count": 12,
      "outputs": [
        {
          "output_type": "stream",
          "text": [
            "Epoch 1/50\n",
            "1190/1190 [==============================] - 6s 5ms/step - loss: 0.0583\n",
            "Epoch 2/50\n",
            "1190/1190 [==============================] - 4s 3ms/step - loss: 0.0269\n",
            "Epoch 3/50\n",
            "1190/1190 [==============================] - 4s 3ms/step - loss: 0.0191\n",
            "Epoch 4/50\n",
            "1190/1190 [==============================] - 4s 3ms/step - loss: 0.0152\n",
            "Epoch 5/50\n",
            "1190/1190 [==============================] - 4s 3ms/step - loss: 0.0120\n",
            "Epoch 6/50\n",
            "1190/1190 [==============================] - 4s 3ms/step - loss: 0.0094\n",
            "Epoch 7/50\n",
            "1190/1190 [==============================] - 4s 3ms/step - loss: 0.0084\n",
            "Epoch 8/50\n",
            "1190/1190 [==============================] - 4s 3ms/step - loss: 0.0073\n",
            "Epoch 9/50\n",
            "1190/1190 [==============================] - 4s 3ms/step - loss: 0.0071\n",
            "Epoch 10/50\n",
            "1190/1190 [==============================] - 4s 3ms/step - loss: 0.0066\n",
            "Epoch 11/50\n",
            "1190/1190 [==============================] - 4s 3ms/step - loss: 0.0057\n",
            "Epoch 12/50\n",
            "1190/1190 [==============================] - 4s 3ms/step - loss: 0.0060\n",
            "Epoch 13/50\n",
            "1190/1190 [==============================] - 4s 3ms/step - loss: 0.0057\n",
            "Epoch 14/50\n",
            "1190/1190 [==============================] - 4s 3ms/step - loss: 0.0058\n",
            "Epoch 15/50\n",
            "1190/1190 [==============================] - 4s 3ms/step - loss: 0.0056\n",
            "Epoch 16/50\n",
            "1190/1190 [==============================] - 4s 3ms/step - loss: 0.0050\n",
            "Epoch 17/50\n",
            "1190/1190 [==============================] - 4s 3ms/step - loss: 0.0051\n",
            "Epoch 18/50\n",
            "1190/1190 [==============================] - 4s 3ms/step - loss: 0.0050\n",
            "Epoch 19/50\n",
            "1190/1190 [==============================] - 4s 3ms/step - loss: 0.0046\n",
            "Epoch 20/50\n",
            "1190/1190 [==============================] - 4s 3ms/step - loss: 0.0047\n",
            "Epoch 21/50\n",
            "1190/1190 [==============================] - 4s 3ms/step - loss: 0.0047\n",
            "Epoch 22/50\n",
            "1190/1190 [==============================] - 4s 3ms/step - loss: 0.0046\n",
            "Epoch 23/50\n",
            "1190/1190 [==============================] - 4s 3ms/step - loss: 0.0045\n",
            "Epoch 24/50\n",
            "1190/1190 [==============================] - 4s 3ms/step - loss: 0.0044\n",
            "Epoch 25/50\n",
            "1190/1190 [==============================] - 4s 3ms/step - loss: 0.0040\n",
            "Epoch 26/50\n",
            "1190/1190 [==============================] - 4s 3ms/step - loss: 0.0038\n",
            "Epoch 27/50\n",
            "1190/1190 [==============================] - 4s 3ms/step - loss: 0.0038\n",
            "Epoch 28/50\n",
            "1190/1190 [==============================] - 4s 3ms/step - loss: 0.0039\n",
            "Epoch 29/50\n",
            "1190/1190 [==============================] - 4s 3ms/step - loss: 0.0040\n",
            "Epoch 30/50\n",
            "1190/1190 [==============================] - 4s 3ms/step - loss: 0.0040\n",
            "Epoch 31/50\n",
            "1190/1190 [==============================] - 4s 3ms/step - loss: 0.0038\n",
            "Epoch 32/50\n",
            "1190/1190 [==============================] - 4s 3ms/step - loss: 0.0037\n",
            "Epoch 33/50\n",
            "1190/1190 [==============================] - 4s 3ms/step - loss: 0.0038\n",
            "Epoch 34/50\n",
            "1190/1190 [==============================] - 4s 3ms/step - loss: 0.0035\n",
            "Epoch 35/50\n",
            "1190/1190 [==============================] - 4s 3ms/step - loss: 0.0036\n",
            "Epoch 36/50\n",
            "1190/1190 [==============================] - 4s 3ms/step - loss: 0.0035\n",
            "Epoch 37/50\n",
            "1190/1190 [==============================] - 4s 3ms/step - loss: 0.0033\n",
            "Epoch 38/50\n",
            "1190/1190 [==============================] - 4s 3ms/step - loss: 0.0031\n",
            "Epoch 39/50\n",
            "1190/1190 [==============================] - 4s 3ms/step - loss: 0.0034\n",
            "Epoch 40/50\n",
            "1190/1190 [==============================] - 4s 3ms/step - loss: 0.0031\n",
            "Epoch 41/50\n",
            "1190/1190 [==============================] - 4s 3ms/step - loss: 0.0033\n",
            "Epoch 42/50\n",
            "1190/1190 [==============================] - 4s 3ms/step - loss: 0.0032\n",
            "Epoch 43/50\n",
            "1190/1190 [==============================] - 4s 3ms/step - loss: 0.0029\n",
            "Epoch 44/50\n",
            "1190/1190 [==============================] - 4s 3ms/step - loss: 0.0029\n",
            "Epoch 45/50\n",
            "1190/1190 [==============================] - 4s 3ms/step - loss: 0.0031\n",
            "Epoch 46/50\n",
            "1190/1190 [==============================] - 4s 3ms/step - loss: 0.0032\n",
            "Epoch 47/50\n",
            "1190/1190 [==============================] - 4s 3ms/step - loss: 0.0032\n",
            "Epoch 48/50\n",
            "1190/1190 [==============================] - 4s 3ms/step - loss: 0.0032\n",
            "Epoch 49/50\n",
            "1190/1190 [==============================] - 4s 3ms/step - loss: 0.0028\n",
            "Epoch 50/50\n",
            "1190/1190 [==============================] - 4s 3ms/step - loss: 0.0031\n"
          ],
          "name": "stdout"
        },
        {
          "output_type": "execute_result",
          "data": {
            "text/plain": [
              "<keras.callbacks.callbacks.History at 0x7f4ffc669940>"
            ]
          },
          "metadata": {
            "tags": []
          },
          "execution_count": 12
        }
      ]
    },
    {
      "cell_type": "markdown",
      "metadata": {
        "id": "QiGfU_uJKyXA",
        "colab_type": "text"
      },
      "source": [
        "The current version version uses a dense GRU network with 100 units as opposed to the GRU network with 50 units in previous version"
      ]
    },
    {
      "cell_type": "markdown",
      "metadata": {
        "id": "LT3waWHxPm6y",
        "colab_type": "text"
      },
      "source": [
        "##Test the model"
      ]
    },
    {
      "cell_type": "code",
      "metadata": {
        "id": "krG-EosLHP33",
        "colab_type": "code",
        "colab": {}
      },
      "source": [
        "# Preparing X_test and predicting the prices\n",
        "X_test = []\n",
        "for i in range(60,311):\n",
        "    X_test.append(inputs[i-60:i,0])\n",
        "X_test = np.array(X_test)\n",
        "X_test = np.reshape(X_test, (X_test.shape[0],X_test.shape[1],1))\n",
        "GRU_predicted_stock_price = regressorGRU.predict(X_test)\n",
        "GRU_predicted_stock_price = sc.inverse_transform(GRU_predicted_stock_price)"
      ],
      "execution_count": 13,
      "outputs": []
    },
    {
      "cell_type": "code",
      "metadata": {
        "id": "vu9iCTxUG8-E",
        "colab_type": "code",
        "colab": {
          "base_uri": "https://localhost:8080/",
          "height": 296
        },
        "outputId": "8d6aef2c-ffa4-4e80-ef1f-d0dc3ca5627d"
      },
      "source": [
        "# Visualizing the results for GRU\n",
        "predictions_plot(test_set,GRU_predicted_stock_price)"
      ],
      "execution_count": 14,
      "outputs": [
        {
          "output_type": "display_data",
          "data": {
            "image/png": "[encoded data removed]",
            "text/plain": [
              "<Figure size 432x288 with 1 Axes>"
            ]
          },
          "metadata": {
            "tags": [],
            "needs_background": "light"
          }
        }
      ]
    },
    {
      "cell_type": "code",
      "metadata": {
        "id": "CmYOLpwhI2Tw",
        "colab_type": "code",
        "colab": {
          "base_uri": "https://localhost:8080/",
          "height": 34
        },
        "outputId": "48c0b2e4-8634-48a0-877d-99fa52f46c8e"
      },
      "source": [
        "# Evaluating GRU\n",
        "rmse_return(test_set,GRU_predicted_stock_price)"
      ],
      "execution_count": 15,
      "outputs": [
        {
          "output_type": "stream",
          "text": [
            "The root mean squared error is 38.03654965370535.\n"
          ],
          "name": "stdout"
        }
      ]
    },
    {
      "cell_type": "code",
      "metadata": {
        "id": "VBrvWpimI2RS",
        "colab_type": "code",
        "colab": {}
      },
      "source": [
        ""
      ],
      "execution_count": 15,
      "outputs": []
    }
  ]
}